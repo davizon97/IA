{
  "cells": [
    {
      "cell_type": "markdown",
      "source": [
        "# **Main commands to perform a basic review of a DataFrame in pandas**"
      ],
      "metadata": {
        "id": "EZ1eedMVdfN3"
      }
    },
    {
      "cell_type": "markdown",
      "source": [
        "# **df.shape**\n",
        "\n",
        "Description: Returns the shape of the DataFrame as a tuple, where the first value is the number of rows and the second is the number of columns.\n",
        "\n",
        "Usage: Useful to know how many records and variables are in your DataFrame."
      ],
      "metadata": {
        "id": "W5aWKWY2dk8Q"
      }
    },
    {
      "cell_type": "code",
      "source": [
        "print(df.shape)"
      ],
      "metadata": {
        "id": "cLBRu43xd9k_"
      },
      "execution_count": null,
      "outputs": []
    },
    {
      "cell_type": "markdown",
      "source": [
        "# **df.head(n)**\n",
        "\n",
        "Description: Shows the first n rows of the DataFrame (by default shows the first 5 rows).\n",
        "\n",
        "Useful for getting a quick overview of the first records.\n",
        "Usage: To check the structure of the initial data in the DataFrame."
      ],
      "metadata": {
        "id": "RTXwj6QAd-zv"
      }
    },
    {
      "cell_type": "code",
      "source": [
        "print(df.head(2))  # Show the first 2 rows"
      ],
      "metadata": {
        "id": "xAm-VQn7eG4m"
      },
      "execution_count": null,
      "outputs": []
    },
    {
      "cell_type": "markdown",
      "source": [
        "# **df.tail(n)**\n",
        "\n",
        "Description: Shows the last n rows of the DataFrame (by default shows the last 5 rows). Useful to view the last records in the DataFrame.\n",
        "\n",
        "Usage: To review the final records in the DataFrame."
      ],
      "metadata": {
        "id": "r5HPZxw_eITT"
      }
    },
    {
      "cell_type": "code",
      "source": [
        "print(df.tail(2))  # Show the last 2 rows"
      ],
      "metadata": {
        "id": "ts75mu0JeMZP"
      },
      "execution_count": null,
      "outputs": []
    },
    {
      "cell_type": "markdown",
      "source": [
        "# **df.info()**\n",
        "\n",
        "Description: Provides a summary of the DataFrame, including the number of entries (rows), data types of each column, and how many non-null values each column has.\n",
        "\n",
        "Usage: Useful to understand the structure of the data, the type of each column, and if there are missing values."
      ],
      "metadata": {
        "id": "KWmtmVH0ePQD"
      }
    },
    {
      "cell_type": "code",
      "source": [
        "print(df.info())"
      ],
      "metadata": {
        "id": "M_L3MHajeORt"
      },
      "execution_count": null,
      "outputs": []
    },
    {
      "cell_type": "markdown",
      "source": [
        "# **df.describe()**\n",
        "\n",
        "Description: Provides a statistical summary of the numerical columns in the DataFrame, such as mean, standard deviation, minimum, percentiles, etc.\n",
        "\n",
        "Usage: To get basic statistics for the numerical variables."
      ],
      "metadata": {
        "id": "twbiAmoaeVT6"
      }
    },
    {
      "cell_type": "code",
      "source": [
        "print(df.describe())"
      ],
      "metadata": {
        "id": "_uqaRre7eVbX"
      },
      "execution_count": null,
      "outputs": []
    },
    {
      "cell_type": "markdown",
      "source": [
        "# **df.columns**\n",
        "\n",
        "Description: Returns a list of the column names of the DataFrame.\n",
        "\n",
        "Usage: Useful to review or rename the columns of the DataFrame."
      ],
      "metadata": {
        "id": "1iUmGcd0ebsg"
      }
    },
    {
      "cell_type": "code",
      "source": [
        "print(df.columns)"
      ],
      "metadata": {
        "id": "33D4asvUeb29"
      },
      "execution_count": null,
      "outputs": []
    },
    {
      "cell_type": "markdown",
      "source": [
        "# **df.dtypes**\n",
        "\n",
        "Description: Displays the data types of each column in the DataFrame.\n",
        "\n",
        "Usage: Useful to know the data type of each column, like int64, float64, object, etc."
      ],
      "metadata": {
        "id": "ok4pSZiTeiJI"
      }
    },
    {
      "cell_type": "code",
      "source": [
        "print(df.dtypes)"
      ],
      "metadata": {
        "id": "ZACjacPceiQR"
      },
      "execution_count": null,
      "outputs": []
    },
    {
      "cell_type": "markdown",
      "source": [
        "# **df.isnull().sum()**\n",
        "\n",
        "Description: Returns the number of missing values per column.\n",
        "\n",
        "Usage: Useful to identify how many missing values there are in each column."
      ],
      "metadata": {
        "id": "FEyMmHYlem8F"
      }
    },
    {
      "cell_type": "code",
      "source": [
        "print(df.isnull().sum())"
      ],
      "metadata": {
        "id": "k3064sRGenC_"
      },
      "execution_count": null,
      "outputs": []
    },
    {
      "cell_type": "markdown",
      "source": [
        "# **df.value_counts()**\n",
        "\n",
        "Description: Returns a count of unique values in a specific column.\n",
        "\n",
        "Usage: Useful to see how often each value occurs in a column."
      ],
      "metadata": {
        "id": "Y-MCDkj1eriw"
      }
    },
    {
      "cell_type": "code",
      "source": [
        "print(df['City'].value_counts())"
      ],
      "metadata": {
        "id": "4g45ALhOerrP"
      },
      "execution_count": null,
      "outputs": []
    },
    {
      "cell_type": "markdown",
      "source": [
        "# **df.sample(n)**\n",
        "\n",
        "Description: Returns a random sample of n rows from the DataFrame.\n",
        "\n",
        "Usage: Useful to review a random sample of the data."
      ],
      "metadata": {
        "id": "nsoNxEM5evEu"
      }
    },
    {
      "cell_type": "code",
      "source": [
        "print(df.sample(2))  # Show 2 random rows"
      ],
      "metadata": {
        "id": "AhxkU4YpevLk"
      },
      "execution_count": null,
      "outputs": []
    },
    {
      "cell_type": "markdown",
      "source": [
        "# **df.index.is_unique**\n",
        "\n",
        "Description: The is_unique property of a DataFrame's index checks whether the index contains only unique values. It returns a boolean value: True if all index values are unique and False if there are any duplicate index values. This is useful for ensuring that each row can be uniquely identified by its index, which is important for certain operations, such as merging or joining DataFrames.\n",
        "\n",
        "Usage: You can use df.index.is_unique to quickly verify the uniqueness of the index in your DataFrame."
      ],
      "metadata": {
        "id": "-b9EYuWYfNco"
      }
    },
    {
      "cell_type": "code",
      "source": [
        "is_unique = df_unique.index.is_unique\n",
        "print(\"Is the index unique?\", is_unique)"
      ],
      "metadata": {
        "id": "ItE5PZQSfNif"
      },
      "execution_count": null,
      "outputs": []
    },
    {
      "cell_type": "markdown",
      "source": [
        "# **df.set_index()**\n",
        "\n",
        "Description: Is used to set one or more columns of a DataFrame as the index. This can be useful for various operations, such as making the DataFrame easier to work with when querying or filtering data. Setting an index can help enhance performance when accessing data and improve the readability of your DataFrame.\n",
        "\n",
        "When you set a column as the index, it will no longer be a column in the DataFrame but will instead become the row labels.\n",
        "\n",
        "Usage: You can use df.set_index(keys) to specify the column(s) you want to use as the index. The keys parameter can take a single column name or a list of column names."
      ],
      "metadata": {
        "id": "XLN-GzJTf1Jb"
      }
    },
    {
      "cell_type": "code",
      "source": [
        "df = df.set_index('nombre_de_la_columna')"
      ],
      "metadata": {
        "id": "Awyy-jqGf1Q-"
      },
      "execution_count": null,
      "outputs": []
    },
    {
      "cell_type": "markdown",
      "source": [
        "# **df.index**\n",
        "\n",
        "Description: The index attribute of a pandas DataFrame returns the index (row labels) of the DataFrame. It provides access to the labels that are used to identify each row. The index can be a simple integer index, a date-time index, or even a custom index based on one or more columns. This attribute allows you to inspect, manipulate, and perform various operations on the index.\n",
        "\n",
        "Usage: You can use df.index to retrieve the index of the DataFrame. It can also be modified or reassigned if needed."
      ],
      "metadata": {
        "id": "OS_qFhu9gmo1"
      }
    },
    {
      "cell_type": "code",
      "source": [
        "print(df.index)"
      ],
      "metadata": {
        "id": "RMMR0xZGgmu7"
      },
      "execution_count": null,
      "outputs": []
    },
    {
      "cell_type": "markdown",
      "source": [
        "# **df.index.to_series().diff().dt.total_seconds()**\n",
        "\n",
        "Description: This command calculates the diferences in seconds between each pair of data.\n",
        "\n",
        "Usage: To verify that the frequency of the samples is the desired one."
      ],
      "metadata": {
        "id": "eqB1sie8iAhi"
      }
    },
    {
      "cell_type": "code",
      "source": [
        "df_time_diffs = df.index.to_series().diff().dt.total_seconds()\n",
        "print(df_time_diffs.value.counts())"
      ],
      "metadata": {
        "id": "T01XmeV8iAwF"
      },
      "execution_count": null,
      "outputs": []
    },
    {
      "cell_type": "markdown",
      "source": [
        "Summary of the Commands:\n",
        "\n",
        "*   df.shape: Returns the number of rows and columns.\n",
        "*   df.head(n): Displays the first n rows.\n",
        "*   df.tail(n): Displays the last n rows.\n",
        "*   df.info(): Provides a summary of the structure of the DataFrame.\n",
        "*   df.describe(): Returns descriptive statistics for numerical columns.\n",
        "*   df.columns: Shows the names of the columns.\n",
        "*   df.dtypes: Displays the data types of each column.\n",
        "*   df.isnull().sum(): Returns the number of missing values per column.\n",
        "*   df.value_counts(): Displays the count of unique values in a column.\n",
        "*   df.sample(n): Returns a random sample of n rows.\n",
        "\n",
        "\n",
        "\n",
        "\n",
        "\n",
        "\n",
        "\n",
        "\n",
        "\n",
        "\n",
        "\n",
        "\n",
        "\n",
        "\n",
        "\n",
        "\n"
      ],
      "metadata": {
        "id": "pZFtfQilc4fN"
      }
    },
    {
      "cell_type": "markdown",
      "source": [],
      "metadata": {
        "id": "Qk3FuIkIdY1u"
      }
    }
  ],
  "metadata": {
    "colab": {
      "provenance": []
    },
    "kernelspec": {
      "display_name": "Python 3",
      "name": "python3"
    },
    "language_info": {
      "name": "python"
    }
  },
  "nbformat": 4,
  "nbformat_minor": 0
}