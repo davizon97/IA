{
  "cells": [
    {
      "cell_type": "markdown",
      "metadata": {
        "id": "EZ1eedMVdfN3"
      },
      "source": [
        "# **Main commands to perform a basic review of a DataFrame in pandas**"
      ]
    },
    {
      "cell_type": "markdown",
      "metadata": {
        "id": "W5aWKWY2dk8Q"
      },
      "source": [
        "# **df.shape**\n",
        "\n",
        "Description: Returns the shape of the DataFrame as a tuple, where the first value is the number of rows and the second is the number of columns.\n",
        "\n",
        "Usage: Useful to know how many records and variables are in your DataFrame."
      ]
    },
    {
      "cell_type": "code",
      "execution_count": null,
      "metadata": {
        "id": "cLBRu43xd9k_"
      },
      "outputs": [],
      "source": [
        "print(df.shape)"
      ]
    },
    {
      "cell_type": "markdown",
      "metadata": {
        "id": "RTXwj6QAd-zv"
      },
      "source": [
        "# **df.head(n)**\n",
        "\n",
        "Description: Shows the first n rows of the DataFrame (by default shows the first 5 rows).\n",
        "\n",
        "Useful for getting a quick overview of the first records.\n",
        "Usage: To check the structure of the initial data in the DataFrame."
      ]
    },
    {
      "cell_type": "code",
      "execution_count": null,
      "metadata": {
        "id": "xAm-VQn7eG4m"
      },
      "outputs": [],
      "source": [
        "print(df.head(2))  # Show the first 2 rows"
      ]
    },
    {
      "cell_type": "markdown",
      "metadata": {
        "id": "r5HPZxw_eITT"
      },
      "source": [
        "# **df.tail(n)**\n",
        "\n",
        "Description: Shows the last n rows of the DataFrame (by default shows the last 5 rows). Useful to view the last records in the DataFrame.\n",
        "\n",
        "Usage: To review the final records in the DataFrame."
      ]
    },
    {
      "cell_type": "code",
      "execution_count": null,
      "metadata": {
        "id": "ts75mu0JeMZP"
      },
      "outputs": [],
      "source": [
        "print(df.tail(2))  # Show the last 2 rows"
      ]
    },
    {
      "cell_type": "markdown",
      "metadata": {
        "id": "KWmtmVH0ePQD"
      },
      "source": [
        "# **df.info()**\n",
        "\n",
        "Description: Provides a summary of the DataFrame, including the number of entries (rows), data types of each column, and how many non-null values each column has.\n",
        "\n",
        "Usage: Useful to understand the structure of the data, the type of each column, and if there are missing values."
      ]
    },
    {
      "cell_type": "code",
      "execution_count": null,
      "metadata": {
        "id": "M_L3MHajeORt"
      },
      "outputs": [],
      "source": [
        "print(df.info())"
      ]
    },
    {
      "cell_type": "markdown",
      "metadata": {
        "id": "twbiAmoaeVT6"
      },
      "source": [
        "# **df.describe()**\n",
        "\n",
        "Description: Provides a statistical summary of the numerical columns in the DataFrame, such as mean, standard deviation, minimum, percentiles, etc.\n",
        "\n",
        "Usage: To get basic statistics for the numerical variables."
      ]
    },
    {
      "cell_type": "code",
      "execution_count": null,
      "metadata": {
        "id": "_uqaRre7eVbX"
      },
      "outputs": [],
      "source": [
        "print(df.describe())"
      ]
    },
    {
      "cell_type": "markdown",
      "metadata": {
        "id": "1iUmGcd0ebsg"
      },
      "source": [
        "# **df.columns**\n",
        "\n",
        "Description: Returns a list of the column names of the DataFrame.\n",
        "\n",
        "Usage: Useful to review or rename the columns of the DataFrame."
      ]
    },
    {
      "cell_type": "code",
      "execution_count": null,
      "metadata": {
        "id": "33D4asvUeb29"
      },
      "outputs": [],
      "source": [
        "print(df.columns)"
      ]
    },
    {
      "cell_type": "markdown",
      "metadata": {
        "id": "ok4pSZiTeiJI"
      },
      "source": [
        "# **df.dtypes**\n",
        "\n",
        "Description: Displays the data types of each column in the DataFrame.\n",
        "\n",
        "Usage: Useful to know the data type of each column, like int64, float64, object, etc."
      ]
    },
    {
      "cell_type": "code",
      "execution_count": null,
      "metadata": {
        "id": "ZACjacPceiQR"
      },
      "outputs": [],
      "source": [
        "print(df.dtypes)"
      ]
    },
    {
      "cell_type": "markdown",
      "metadata": {
        "id": "FEyMmHYlem8F"
      },
      "source": [
        "# **df.isnull().sum()**\n",
        "\n",
        "Description: Returns the number of missing values per column.\n",
        "\n",
        "Usage: Useful to identify how many missing values there are in each column."
      ]
    },
    {
      "cell_type": "code",
      "execution_count": null,
      "metadata": {
        "id": "k3064sRGenC_"
      },
      "outputs": [],
      "source": [
        "print(df.isnull().sum())"
      ]
    },
    {
      "cell_type": "markdown",
      "metadata": {
        "id": "Y-MCDkj1eriw"
      },
      "source": [
        "# **df.value_counts()**\n",
        "\n",
        "Description: Returns a count of unique values in a specific column.\n",
        "\n",
        "Usage: Useful to see how often each value occurs in a column."
      ]
    },
    {
      "cell_type": "code",
      "execution_count": null,
      "metadata": {
        "id": "4g45ALhOerrP"
      },
      "outputs": [],
      "source": [
        "print(df['City'].value_counts())"
      ]
    },
    {
      "cell_type": "markdown",
      "metadata": {
        "id": "nsoNxEM5evEu"
      },
      "source": [
        "# **df.sample(n)**\n",
        "\n",
        "Description: Returns a random sample of n rows from the DataFrame.\n",
        "\n",
        "Usage: Useful to review a random sample of the data."
      ]
    },
    {
      "cell_type": "code",
      "execution_count": null,
      "metadata": {
        "id": "AhxkU4YpevLk"
      },
      "outputs": [],
      "source": [
        "print(df.sample(2))  # Show 2 random rows"
      ]
    },
    {
      "cell_type": "markdown",
      "metadata": {
        "id": "-b9EYuWYfNco"
      },
      "source": [
        "# **df.index.is_unique**\n",
        "\n",
        "Description: The is_unique property of a DataFrame's index checks whether the index contains only unique values. It returns a boolean value: True if all index values are unique and False if there are any duplicate index values. This is useful for ensuring that each row can be uniquely identified by its index, which is important for certain operations, such as merging or joining DataFrames.\n",
        "\n",
        "Usage: You can use df.index.is_unique to quickly verify the uniqueness of the index in your DataFrame."
      ]
    },
    {
      "cell_type": "code",
      "execution_count": null,
      "metadata": {
        "id": "ItE5PZQSfNif"
      },
      "outputs": [],
      "source": [
        "is_unique = df_unique.index.is_unique\n",
        "print(\"Is the index unique?\", is_unique)"
      ]
    },
    {
      "cell_type": "markdown",
      "metadata": {
        "id": "XLN-GzJTf1Jb"
      },
      "source": [
        "# **df.set_index()**\n",
        "\n",
        "Description: Is used to set one or more columns of a DataFrame as the index. This can be useful for various operations, such as making the DataFrame easier to work with when querying or filtering data. Setting an index can help enhance performance when accessing data and improve the readability of your DataFrame.\n",
        "\n",
        "When you set a column as the index, it will no longer be a column in the DataFrame but will instead become the row labels.\n",
        "\n",
        "Usage: You can use df.set_index(keys) to specify the column(s) you want to use as the index. The keys parameter can take a single column name or a list of column names."
      ]
    },
    {
      "cell_type": "code",
      "execution_count": null,
      "metadata": {
        "id": "Awyy-jqGf1Q-"
      },
      "outputs": [],
      "source": [
        "df = df.set_index('nombre_de_la_columna')"
      ]
    },
    {
      "cell_type": "markdown",
      "metadata": {
        "id": "OS_qFhu9gmo1"
      },
      "source": [
        "# **df.index**\n",
        "\n",
        "Description: The index attribute of a pandas DataFrame returns the index (row labels) of the DataFrame. It provides access to the labels that are used to identify each row. The index can be a simple integer index, a date-time index, or even a custom index based on one or more columns. This attribute allows you to inspect, manipulate, and perform various operations on the index.\n",
        "\n",
        "Usage: You can use df.index to retrieve the index of the DataFrame. It can also be modified or reassigned if needed."
      ]
    },
    {
      "cell_type": "code",
      "execution_count": null,
      "metadata": {
        "id": "RMMR0xZGgmu7"
      },
      "outputs": [],
      "source": [
        "print(df.index)"
      ]
    },
    {
      "cell_type": "markdown",
      "metadata": {
        "id": "eqB1sie8iAhi"
      },
      "source": [
        "# **df.index.to_series().diff().dt.total_seconds()**\n",
        "\n",
        "Description: This command calculates the diferences in seconds between each pair of data.\n",
        "\n",
        "Usage: To verify that the frequency of the samples is the desired one."
      ]
    },
    {
      "cell_type": "code",
      "execution_count": null,
      "metadata": {
        "id": "T01XmeV8iAwF"
      },
      "outputs": [],
      "source": [
        "df_time_diffs = df.index.to_series().diff().dt.total_seconds()\n",
        "print(df_time_diffs.value_counts())"
      ]
    },
    {
      "cell_type": "markdown",
      "metadata": {},
      "source": [
        "# **df.sort_index**\n",
        "\n",
        "Description: This command sorts the dataset in ascending order considering the index\n",
        "\n",
        "Usage: To order the data by index"
      ]
    },
    {
      "cell_type": "code",
      "execution_count": null,
      "metadata": {},
      "outputs": [],
      "source": [
        "df.sort_index(inplace=True)"
      ]
    },
    {
      "cell_type": "markdown",
      "metadata": {},
      "source": [
        "# **df.map**\n",
        "\n",
        "Description: This command is used to apply a specified function to each element in a Series (a single column of a DataFrame). It can be particularly useful for transforming data, such as changing values, categorizing data, or applying mathematical operations. The function can be defined using a standard function, a lambda function, or even a dictionary for mapping values.\n",
        "\n",
        "Usage: \n",
        "    \n",
        "-Transforming Data: You can use map to transform the data in a Series based on a specified function.\n",
        "\n",
        "-Vectorized Operations: It allows for efficient vectorized operations on data, which can be faster than using loops.\n",
        "    \n",
        "-Handling Missing Values: map can handle NaN values gracefully, applying the function only to non-null values."
      ]
    },
    {
      "cell_type": "code",
      "execution_count": null,
      "metadata": {},
      "outputs": [],
      "source": [
        "df['Doubled'] = df['Numbers'].map(lambda x: x * 2)"
      ]
    },
    {
      "cell_type": "markdown",
      "metadata": {},
      "source": [
        "# **df.asfreq**\n",
        "\n",
        "Description: This command  is used to convert a DataFrame or Series to a specified frequency, particularly useful when working with time series data. It allows you to change the frequency of your data, selecting specific time periods and filling missing data based on the specified method.\n",
        "\n",
        "Usage: \n",
        "    \n",
        "-When you have a time series and want to change its frequency or index to a different frequency.\n",
        "\n",
        "-Useful for downsampling (e.g., from daily to monthly) or upsampling (e.g., from monthly to daily)."
      ]
    },
    {
      "cell_type": "code",
      "execution_count": null,
      "metadata": {},
      "outputs": [],
      "source": [
        "df = df.asfreq(freq='H',method='bfill')"
      ]
    },
    {
      "cell_type": "markdown",
      "metadata": {
        "id": "pZFtfQilc4fN"
      },
      "source": [
        "Summary of the Commands:\n",
        "\n",
        "*   df.shape: Returns the number of rows and columns.\n",
        "*   df.head(n): Displays the first n rows.\n",
        "*   df.tail(n): Displays the last n rows.\n",
        "*   df.info(): Provides a summary of the structure of the DataFrame.\n",
        "*   df.describe(): Returns descriptive statistics for numerical columns.\n",
        "*   df.columns: Shows the names of the columns.\n",
        "*   df.dtypes: Displays the data types of each column.\n",
        "*   df.isnull().sum(): Returns the number of missing values per column.\n",
        "*   df.value_counts(): Displays the count of unique values in a column.\n",
        "*   df.sample(n): Returns a random sample of n rows.\n",
        "\n",
        "\n",
        "\n",
        "\n",
        "\n",
        "\n",
        "\n",
        "\n",
        "\n",
        "\n",
        "\n",
        "\n",
        "\n",
        "\n",
        "\n",
        "\n"
      ]
    },
    {
      "cell_type": "markdown",
      "metadata": {
        "id": "Qk3FuIkIdY1u"
      },
      "source": []
    }
  ],
  "metadata": {
    "colab": {
      "provenance": []
    },
    "kernelspec": {
      "display_name": "Python 3",
      "name": "python3"
    },
    "language_info": {
      "name": "python"
    }
  },
  "nbformat": 4,
  "nbformat_minor": 0
}
