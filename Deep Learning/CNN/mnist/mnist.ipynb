{
  "nbformat": 4,
  "nbformat_minor": 0,
  "metadata": {
    "colab": {
      "provenance": []
    },
    "kernelspec": {
      "name": "python3",
      "display_name": "Python 3"
    },
    "language_info": {
      "name": "python"
    }
  },
  "cells": [
    {
      "cell_type": "markdown",
      "source": [
        "**1. Import libraries**"
      ],
      "metadata": {
        "id": "3g_aPumkC9jA"
      }
    },
    {
      "cell_type": "code",
      "execution_count": 1,
      "metadata": {
        "id": "fu3oKznqB-_a"
      },
      "outputs": [],
      "source": [
        "#Import libraries\n",
        "import matplotlib.pyplot as plt\n",
        "import pandas as pd\n",
        "import numpy as np\n",
        "import cv2\n",
        "import os\n",
        "import string\n",
        "\n",
        "import tensorflow as tf\n",
        "from tensorflow import keras\n",
        "from tensorflow.keras.models import Model\n",
        "from tensorflow.keras.layers import Input, Conv2D, MaxPooling2D, Flatten, Dense, Dropout\n",
        "from sklearn.model_selection import train_test_split\n",
        "from tensorflow.keras.utils import to_categorical\n",
        "from tensorflow.keras import layers, models\n",
        "from sklearn.model_selection import train_test_split"
      ]
    },
    {
      "cell_type": "markdown",
      "source": [
        "**2. Load datasets**"
      ],
      "metadata": {
        "id": "XfDfSTQEXKu6"
      }
    },
    {
      "cell_type": "code",
      "source": [
        "df_training=pd.read_csv('sample_data/mnist_train_small.csv')\n",
        "print(df_training.shape)\n",
        "print(df_training.dtypes)\n",
        "\n",
        "df_testing=pd.read_csv('sample_data/mnist_test.csv')\n",
        "print(df_testing.shape)\n",
        "print(df_testing.dtypes)\n",
        "\n",
        "#Images of 28x28=784\n",
        "#Column 0 = Labels"
      ],
      "metadata": {
        "colab": {
          "base_uri": "https://localhost:8080/"
        },
        "id": "umy_Ica1XLLE",
        "outputId": "233f0e0c-f6a6-498a-b31b-57ad1fe59edd"
      },
      "execution_count": 3,
      "outputs": [
        {
          "output_type": "stream",
          "name": "stdout",
          "text": [
            "(19999, 785)\n",
            "6        int64\n",
            "0        int64\n",
            "0.1      int64\n",
            "0.2      int64\n",
            "0.3      int64\n",
            "         ...  \n",
            "0.586    int64\n",
            "0.587    int64\n",
            "0.588    int64\n",
            "0.589    int64\n",
            "0.590    int64\n",
            "Length: 785, dtype: object\n",
            "(9999, 785)\n",
            "7        int64\n",
            "0        int64\n",
            "0.1      int64\n",
            "0.2      int64\n",
            "0.3      int64\n",
            "         ...  \n",
            "0.663    int64\n",
            "0.664    int64\n",
            "0.665    int64\n",
            "0.666    int64\n",
            "0.667    int64\n",
            "Length: 785, dtype: object\n"
          ]
        }
      ]
    },
    {
      "cell_type": "markdown",
      "source": [
        "**3. Review image features and visualize it**\n"
      ],
      "metadata": {
        "id": "7IVJcW71ff2n"
      }
    },
    {
      "cell_type": "code",
      "source": [
        "#Features of an image\n",
        "rand_image=18\n",
        "\n",
        "image = df_training.iloc[rand_image,1:].values\n",
        "image = image.reshape((28,28)).astype('float32')\n",
        "\n",
        "plt.imshow(image)\n",
        "plt.show()\n",
        "\n",
        "print(\"Shape summary: \",image.shape)\n",
        "print(\"Height: \",image.shape[0])\n",
        "print(\"Width: \",image.shape[1])\n",
        "print(\"Type: \",image.dtype)\n",
        "\n",
        "#We can see the color mode of the image is RGB, so we will require to use at least 3 channels\n",
        "#-Grayscale - 1 channel\n",
        "#-RGB - 3 channels"
      ],
      "metadata": {
        "colab": {
          "base_uri": "https://localhost:8080/",
          "height": 499
        },
        "id": "KZ6IbPnAeNlH",
        "outputId": "dca7796f-5563-438c-a67c-762b59851afc"
      },
      "execution_count": 4,
      "outputs": [
        {
          "output_type": "display_data",
          "data": {
            "text/plain": [
              "<Figure size 640x480 with 1 Axes>"
            ],
            "image/png": "[encoded data removed]"
          },
          "metadata": {}
        },
        {
          "output_type": "stream",
          "name": "stdout",
          "text": [
            "Shape summary:  (28, 28)\n",
            "Height:  28\n",
            "Width:  28\n",
            "Type:  float32\n"
          ]
        }
      ]
    },
    {
      "cell_type": "markdown",
      "source": [
        "**4. Preprocess images (Normalize)**"
      ],
      "metadata": {
        "id": "zBmIigQMu-vL"
      }
    },
    {
      "cell_type": "code",
      "source": [
        "array_training = df_training.to_numpy()\n",
        "array_testing = df_testing.to_numpy()\n",
        "\n",
        "X_train=array_training[:,1:]\n",
        "y_train=array_training[:,0]\n",
        "\n",
        "X_test=array_testing[:,1:]\n",
        "y_test=array_testing[:,0]\n",
        "\n",
        "images_train=[]\n",
        "for img in X_train:\n",
        "  img=img/255\n",
        "  images_train.append(img)\n",
        "\n",
        "images_test=[]\n",
        "for img in X_test:\n",
        "  img=img/255\n",
        "  images_test.append(img)\n",
        "\n",
        "X_train = np.array(images_train)\n",
        "X_test = np.array(images_test)\n",
        "\n",
        "X_train=X_train.reshape(-1,28,28,1)\n",
        "X_test=X_test.reshape(-1,28,28,1)\n",
        "# print(X_train[0])\n",
        "\n",
        "print(X_train.shape)\n",
        "print(y_train.shape)\n",
        "print(X_test.shape)\n",
        "print(y_test.shape)"
      ],
      "metadata": {
        "colab": {
          "base_uri": "https://localhost:8080/"
        },
        "id": "LVPFsc7Cu-20",
        "outputId": "0236d91d-a14d-43cf-845c-f65c324dac94"
      },
      "execution_count": 12,
      "outputs": [
        {
          "output_type": "stream",
          "name": "stdout",
          "text": [
            "(19999, 28, 28, 1)\n",
            "(19999,)\n",
            "(9999, 28, 28, 1)\n",
            "(9999,)\n"
          ]
        }
      ]
    },
    {
      "cell_type": "markdown",
      "source": [
        "**7. Model Creation - CNN**"
      ],
      "metadata": {
        "id": "duBAKjcKidNT"
      }
    },
    {
      "cell_type": "code",
      "source": [
        "input = layers.Input(shape=(X_train.shape[1],X_train.shape[2],1))    #(28,28,1)\n",
        "\n",
        "x = layers.Conv2D(32, (3, 3), activation='relu')(input)\n",
        "x = layers.MaxPooling2D((2, 2))(x)\n",
        "\n",
        "x = layers.Conv2D(64, (3, 3), activation='relu')(x)\n",
        "x = layers.MaxPooling2D((2, 2))(x)\n",
        "\n",
        "x = layers.Conv2D(128, (3, 3), activation='relu')(x)\n",
        "x = layers.MaxPooling2D((2, 2))(x)\n",
        "\n",
        "x = layers.Flatten()(x)\n",
        "x = layers.Dense(128, activation='relu')(x)\n",
        "x = layers.Dense(64, activation='relu')(x)\n",
        "output1 = layers.Dense(10, activation='softmax')(x)\n",
        "\n",
        "model = keras.Model(inputs=input, outputs=output1)\n",
        "model.compile(optimizer='adam',loss='sparse_categorical_crossentropy', metrics=['accuracy'])\n",
        "\n",
        "\n"
      ],
      "metadata": {
        "id": "wPW24ZJnidTK"
      },
      "execution_count": 33,
      "outputs": []
    },
    {
      "cell_type": "markdown",
      "source": [
        "**8. Model Training**"
      ],
      "metadata": {
        "id": "_Zx7p76EumrV"
      }
    },
    {
      "cell_type": "code",
      "source": [
        "history = model.fit(X_train, y_train, epochs=10, batch_size=32, validation_data=(X_test, y_test))"
      ],
      "metadata": {
        "colab": {
          "base_uri": "https://localhost:8080/"
        },
        "id": "DAWyY-6lwkjq",
        "outputId": "f5f95929-456c-4d55-82e6-8c713e5f0373"
      },
      "execution_count": 34,
      "outputs": [
        {
          "output_type": "stream",
          "name": "stdout",
          "text": [
            "Epoch 1/10\n",
            "\u001b[1m625/625\u001b[0m \u001b[32m━━━━━━━━━━━━━━━━━━━━\u001b[0m\u001b[37m\u001b[0m \u001b[1m24s\u001b[0m 36ms/step - accuracy: 0.7489 - loss: 0.7832 - val_accuracy: 0.9596 - val_loss: 0.1297\n",
            "Epoch 2/10\n",
            "\u001b[1m625/625\u001b[0m \u001b[32m━━━━━━━━━━━━━━━━━━━━\u001b[0m\u001b[37m\u001b[0m \u001b[1m25s\u001b[0m 39ms/step - accuracy: 0.9562 - loss: 0.1386 - val_accuracy: 0.9713 - val_loss: 0.0908\n",
            "Epoch 3/10\n",
            "\u001b[1m625/625\u001b[0m \u001b[32m━━━━━━━━━━━━━━━━━━━━\u001b[0m\u001b[37m\u001b[0m \u001b[1m39s\u001b[0m 36ms/step - accuracy: 0.9744 - loss: 0.0792 - val_accuracy: 0.9712 - val_loss: 0.0883\n",
            "Epoch 4/10\n",
            "\u001b[1m625/625\u001b[0m \u001b[32m━━━━━━━━━━━━━━━━━━━━\u001b[0m\u001b[37m\u001b[0m \u001b[1m23s\u001b[0m 37ms/step - accuracy: 0.9797 - loss: 0.0602 - val_accuracy: 0.9792 - val_loss: 0.0698\n",
            "Epoch 5/10\n",
            "\u001b[1m625/625\u001b[0m \u001b[32m━━━━━━━━━━━━━━━━━━━━\u001b[0m\u001b[37m\u001b[0m \u001b[1m41s\u001b[0m 38ms/step - accuracy: 0.9853 - loss: 0.0482 - val_accuracy: 0.9749 - val_loss: 0.0879\n",
            "Epoch 6/10\n",
            "\u001b[1m625/625\u001b[0m \u001b[32m━━━━━━━━━━━━━━━━━━━━\u001b[0m\u001b[37m\u001b[0m \u001b[1m42s\u001b[0m 39ms/step - accuracy: 0.9877 - loss: 0.0390 - val_accuracy: 0.9735 - val_loss: 0.0817\n",
            "Epoch 7/10\n",
            "\u001b[1m625/625\u001b[0m \u001b[32m━━━━━━━━━━━━━━━━━━━━\u001b[0m\u001b[37m\u001b[0m \u001b[1m38s\u001b[0m 35ms/step - accuracy: 0.9897 - loss: 0.0310 - val_accuracy: 0.9796 - val_loss: 0.0727\n",
            "Epoch 8/10\n",
            "\u001b[1m625/625\u001b[0m \u001b[32m━━━━━━━━━━━━━━━━━━━━\u001b[0m\u001b[37m\u001b[0m \u001b[1m23s\u001b[0m 37ms/step - accuracy: 0.9902 - loss: 0.0266 - val_accuracy: 0.9775 - val_loss: 0.0771\n",
            "Epoch 9/10\n",
            "\u001b[1m625/625\u001b[0m \u001b[32m━━━━━━━━━━━━━━━━━━━━\u001b[0m\u001b[37m\u001b[0m \u001b[1m41s\u001b[0m 37ms/step - accuracy: 0.9912 - loss: 0.0258 - val_accuracy: 0.9807 - val_loss: 0.0768\n",
            "Epoch 10/10\n",
            "\u001b[1m625/625\u001b[0m \u001b[32m━━━━━━━━━━━━━━━━━━━━\u001b[0m\u001b[37m\u001b[0m \u001b[1m42s\u001b[0m 39ms/step - accuracy: 0.9927 - loss: 0.0206 - val_accuracy: 0.9766 - val_loss: 0.0910\n"
          ]
        }
      ]
    },
    {
      "cell_type": "markdown",
      "source": [
        "**9. Evaluate the Model**"
      ],
      "metadata": {
        "id": "BAo7tlEZ5cwH"
      }
    },
    {
      "cell_type": "code",
      "source": [
        "test_loss, test_accuracy = model.evaluate(X_test, y_test)\n",
        "print(f'Loss: {test_loss}, Accuracy: {test_accuracy}')"
      ],
      "metadata": {
        "colab": {
          "base_uri": "https://localhost:8080/"
        },
        "id": "plnEtMEw5c5e",
        "outputId": "c12aeaa1-95a1-4058-a6f3-a1fe7bc9fa6a"
      },
      "execution_count": 35,
      "outputs": [
        {
          "output_type": "stream",
          "name": "stdout",
          "text": [
            "\u001b[1m313/313\u001b[0m \u001b[32m━━━━━━━━━━━━━━━━━━━━\u001b[0m\u001b[37m\u001b[0m \u001b[1m3s\u001b[0m 9ms/step - accuracy: 0.9692 - loss: 0.1148\n",
            "Loss: 0.09095373004674911, Accuracy: 0.9765976667404175\n"
          ]
        }
      ]
    },
    {
      "cell_type": "markdown",
      "source": [
        "**10. Predictions**"
      ],
      "metadata": {
        "id": "c3cvJw8e52Sg"
      }
    },
    {
      "cell_type": "code",
      "source": [
        "rand_image=68\n",
        "predictions = model.predict(X_test)\n",
        "\n",
        "plt.imshow(X_test[rand_image].reshape(28, 28))\n",
        "plt.title(f'Prediction: {predictions[rand_image].argmax()}, Real: {y_test[rand_image]}')\n",
        "plt.show()"
      ],
      "metadata": {
        "id": "iLx6XxS4x1Ox",
        "colab": {
          "base_uri": "https://localhost:8080/",
          "height": 469
        },
        "outputId": "adb1e2fd-1a9e-4921-fffe-cdb76bef0cdc"
      },
      "execution_count": 37,
      "outputs": [
        {
          "output_type": "stream",
          "name": "stdout",
          "text": [
            "\u001b[1m313/313\u001b[0m \u001b[32m━━━━━━━━━━━━━━━━━━━━\u001b[0m\u001b[37m\u001b[0m \u001b[1m5s\u001b[0m 17ms/step\n"
          ]
        },
        {
          "output_type": "display_data",
          "data": {
            "text/plain": [
              "<Figure size 640x480 with 1 Axes>"
            ],
            "image/png": "[encoded data removed]"
          },
          "metadata": {}
        }
      ]
    }
  ]
}